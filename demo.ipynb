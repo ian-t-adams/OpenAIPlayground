{
 "cells": [
  {
   "cell_type": "code",
   "execution_count": 1,
   "metadata": {},
   "outputs": [],
   "source": [
    "from src.qa_to_open_ai_demo import main"
   ]
  },
  {
   "cell_type": "code",
   "execution_count": 2,
   "metadata": {},
   "outputs": [],
   "source": [
    "question = \"What ports and connectors does my Surface have?\""
   ]
  },
  {
   "cell_type": "code",
   "execution_count": 3,
   "metadata": {},
   "outputs": [
    {
     "name": "stdout",
     "output_type": "stream",
     "text": [
      "QA Bot Response: ** Ports and connectors**\n",
      "Surface Book has the ports you expect from a full-feature laptop. Two full-size USB 3.0 ports Connect a USB accessory like a mouse, printer, Ethernet adapter, USB drive, or smartphone.  SD card slot Use the full-size SD card slot with an SD card (sold separately) for extra storage and transferring files.  Mini DisplayPort version 1.2a Share what’s on your Surface screen by connecting it to an HDTV, monitor, or projector. (Video adapters are sold separately.)  3.5 mm headset jack Plug in your favorite headset for a little more privacy when listening to music or conference calls.\n",
      "617\n",
      "\n",
      " Azure Open AI response:  \n",
      "Surface Book offers two USB 3.0 ports, a full-size SD card slot, a Mini DisplayPort version 1.2a and a 3.5 mm headset jack.\n"
     ]
    }
   ],
   "source": [
    "main(question)"
   ]
  },
  {
   "cell_type": "code",
   "execution_count": null,
   "metadata": {},
   "outputs": [],
   "source": []
  }
 ],
 "metadata": {
  "kernelspec": {
   "display_name": "Python 3 (ipykernel)",
   "language": "python",
   "name": "python3"
  },
  "language_info": {
   "codemirror_mode": {
    "name": "ipython",
    "version": 3
   },
   "file_extension": ".py",
   "mimetype": "text/x-python",
   "name": "python",
   "nbconvert_exporter": "python",
   "pygments_lexer": "ipython3",
   "version": "3.10.4"
  },
  "orig_nbformat": 4,
  "vscode": {
   "interpreter": {
    "hash": "4b2a7fa78b5b15a98d8d1505ab59f47789212e6bf082128b1ac1c70cfcec90e1"
   }
  }
 },
 "nbformat": 4,
 "nbformat_minor": 2
}
